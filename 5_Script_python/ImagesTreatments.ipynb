{
 "cells": [
  {
   "cell_type": "code",
   "execution_count": 2,
   "id": "b98558cc",
   "metadata": {},
   "outputs": [],
   "source": [
    "import os\n",
    "import cv2\n",
    "import numpy as np\n",
    "import scipy.ndimage\n",
    "from skimage.filters import (threshold_niblack, threshold_sauvola)\n",
    "from skimage.io import imsave\n",
    "from skimage import (img_as_ubyte, exposure)\n",
    "from tqdm.notebook import tqdm"
   ]
  },
  {
   "cell_type": "markdown",
   "id": "57174f10",
   "metadata": {},
   "source": [
    "## Binary with TRESH_BINARY"
   ]
  },
  {
   "cell_type": "code",
   "execution_count": 12,
   "id": "85d3a76b",
   "metadata": {},
   "outputs": [],
   "source": [
    "def Bin(dossier_input:str, dossier_output):\n",
    "    if not os.path.isdir(dossier_output):\n",
    "        os.mkdir(dossier_output) \n",
    "    files = os.listdir(dossier_input)\n",
    "   \n",
    "    for f in tqdm(files): \n",
    "        if f.endswith('.jpg') :\n",
    "            img = os.path.join(dossier_input, f)\n",
    "            image = cv2.imread(img) \n",
    "            gray = cv2.cvtColor(image, cv2.COLOR_BGR2GRAY)\n",
    "            retval, th = cv2.threshold(gray, 150, 255, cv2.THRESH_BINARY)\n",
    "            path_save = os.path.join(dossier_output, f)\n",
    "            cv2.imwrite(path_save, th)"
   ]
  },
  {
   "cell_type": "code",
   "execution_count": 13,
   "id": "f8f8b450",
   "metadata": {},
   "outputs": [
    {
     "data": {
      "application/vnd.jupyter.widget-view+json": {
       "model_id": "71ba466e611143479ea1faea126288d4",
       "version_major": 2,
       "version_minor": 0
      },
      "text/plain": [
       "  0%|          | 0/1048 [00:00<?, ?it/s]"
      ]
     },
     "metadata": {},
     "output_type": "display_data"
    }
   ],
   "source": [
    "Bin(dossier_input = \"/Users/pauline/Documents/Kunsthistorisches-UZH_Archivdatenbank/HTR/Data/illustrations_pages\", dossier_output = \"/Users/pauline/Documents/Kunsthistorisches-UZH_Archivdatenbank/HTR/Data/illustrations_pages_bin\")"
   ]
  },
  {
   "cell_type": "markdown",
   "id": "298d08e0",
   "metadata": {},
   "source": [
    "# Binary with Otsu\n",
    "\n",
    "It automatically finds the global threshold. \n",
    "_Cf._ Nobuyuki Otsu (1979). \"A threshold selection method from gray-level histograms\". IEEE Trans. Sys. Man. Cyber.  9 (1): 62–66. [DOI: 10.1109/TSMC.1979.4310076](https://ieeexplore.ieee.org/document/4310076)."
   ]
  },
  {
   "cell_type": "code",
   "execution_count": 22,
   "id": "9efbe2ca",
   "metadata": {},
   "outputs": [],
   "source": [
    "def OTSU(dossier_input:str, dossier_output):\n",
    "    if not os.path.isdir(dossier_output):\n",
    "        os.mkdir(dossier_output) \n",
    "    files = os.listdir(dossier_input)\n",
    "   \n",
    "    for f in tqdm(files):\n",
    "        if f.endswith('.jpg') :\n",
    "            img = os.path.join(dossier_input, f)\n",
    "            image = cv2.imread(img) \n",
    "            gray = cv2.cvtColor(image, cv2.COLOR_BGR2GRAY)\n",
    "            retval, th = cv2.threshold(gray, 0, 255,cv2.THRESH_OTSU)\n",
    "            path_save = os.path.join(dossier_output, f)\n",
    "            cv2.imwrite(path_save, th)"
   ]
  },
  {
   "cell_type": "code",
   "execution_count": 23,
   "id": "8bcb5f8e",
   "metadata": {},
   "outputs": [
    {
     "data": {
      "application/vnd.jupyter.widget-view+json": {
       "model_id": "084bbb653f624cad927793d057a8fa62",
       "version_major": 2,
       "version_minor": 0
      },
      "text/plain": [
       "  0%|          | 0/1048 [00:00<?, ?it/s]"
      ]
     },
     "metadata": {},
     "output_type": "display_data"
    }
   ],
   "source": [
    "OTSU(dossier_input = \"/Users/pauline/Documents/Kunsthistorisches-UZH_Archivdatenbank/HTR/Data/illustrations_pages\", dossier_output = \"/Users/pauline/Documents/Kunsthistorisches-UZH_Archivdatenbank/HTR/Data/illustrations_pages_bin\")"
   ]
  },
  {
   "cell_type": "markdown",
   "id": "c31d9531",
   "metadata": {},
   "source": [
    "# Binary with Niblack\n",
    "\n",
    "The Niblack algorithm determines a threshold value for each pixel by dragging a window across the image. \n",
    "_Cf_. : W. Niblack, An introduction to Digital Image Processing, Prentice-Hall, 1986. "
   ]
  },
  {
   "cell_type": "code",
   "execution_count": 17,
   "id": "9ff83e36",
   "metadata": {},
   "outputs": [],
   "source": [
    "def Niblack(dossier_input:str, dossier_output):\n",
    "    if not os.path.isdir(dossier_output):\n",
    "        os.mkdir(dossier_output) \n",
    "    files = os.listdir(dossier_input)\n",
    "   \n",
    "    for f in tqdm(files): \n",
    "        img = os.path.join(dossier_input, f)\n",
    "        image = cv2.imread(img) \n",
    "        gray = cv2.cvtColor(image, cv2.COLOR_BGR2GRAY)\n",
    "        thresh_niblack = threshold_niblack(gray, window_size=219, k=0.9)\n",
    "        niblack = gray > thresh_niblack\n",
    "        binary_niblack = img_as_ubyte(niblack)\n",
    "        path_save = os.path.join(dossier_output, f)\n",
    "        imsave(path_save, binary_niblack)"
   ]
  },
  {
   "cell_type": "code",
   "execution_count": 18,
   "id": "0ff2c2f5",
   "metadata": {},
   "outputs": [
    {
     "data": {
      "application/vnd.jupyter.widget-view+json": {
       "model_id": "dace6173d9d54b05b08e399fb597f3e4",
       "version_major": 2,
       "version_minor": 0
      },
      "text/plain": [
       "  0%|          | 0/5 [00:00<?, ?it/s]"
      ]
     },
     "metadata": {},
     "output_type": "display_data"
    },
    {
     "ename": "error",
     "evalue": "OpenCV(4.5.5) /Users/xperience/actions-runner/_work/opencv-python/opencv-python/opencv/modules/imgproc/src/color.cpp:182: error: (-215:Assertion failed) !_src.empty() in function 'cvtColor'\n",
     "output_type": "error",
     "traceback": [
      "\u001b[0;31m---------------------------------------------------------------------------\u001b[0m",
      "\u001b[0;31merror\u001b[0m                                     Traceback (most recent call last)",
      "Input \u001b[0;32mIn [18]\u001b[0m, in \u001b[0;36m<cell line: 1>\u001b[0;34m()\u001b[0m\n\u001b[0;32m----> 1\u001b[0m \u001b[43mNiblack\u001b[49m\u001b[43m(\u001b[49m\u001b[43mdossier_input\u001b[49m\u001b[43m \u001b[49m\u001b[38;5;241;43m=\u001b[39;49m\u001b[43m \u001b[49m\u001b[38;5;124;43m\"\u001b[39;49m\u001b[38;5;124;43m/Users/pauline/Documents/Kunsthistorisches-UZH_Archivdatenbank/TEST_bin\u001b[39;49m\u001b[38;5;124;43m\"\u001b[39;49m\u001b[43m,\u001b[49m\u001b[43m \u001b[49m\u001b[43mdossier_output\u001b[49m\u001b[43m \u001b[49m\u001b[38;5;241;43m=\u001b[39;49m\u001b[43m \u001b[49m\u001b[38;5;124;43m\"\u001b[39;49m\u001b[38;5;124;43m/Users/pauline/Documents/Kunsthistorisches-UZH_Archivdatenbank/TEST_bin/Niblack\u001b[39;49m\u001b[38;5;124;43m\"\u001b[39;49m\u001b[43m)\u001b[49m\n",
      "Input \u001b[0;32mIn [17]\u001b[0m, in \u001b[0;36mNiblack\u001b[0;34m(dossier_input, dossier_output)\u001b[0m\n\u001b[1;32m      7\u001b[0m img \u001b[38;5;241m=\u001b[39m os\u001b[38;5;241m.\u001b[39mpath\u001b[38;5;241m.\u001b[39mjoin(dossier_input, f)\n\u001b[1;32m      8\u001b[0m image \u001b[38;5;241m=\u001b[39m cv2\u001b[38;5;241m.\u001b[39mimread(img) \n\u001b[0;32m----> 9\u001b[0m gray \u001b[38;5;241m=\u001b[39m \u001b[43mcv2\u001b[49m\u001b[38;5;241;43m.\u001b[39;49m\u001b[43mcvtColor\u001b[49m\u001b[43m(\u001b[49m\u001b[43mimage\u001b[49m\u001b[43m,\u001b[49m\u001b[43m \u001b[49m\u001b[43mcv2\u001b[49m\u001b[38;5;241;43m.\u001b[39;49m\u001b[43mCOLOR_BGR2GRAY\u001b[49m\u001b[43m)\u001b[49m\n\u001b[1;32m     10\u001b[0m thresh_niblack \u001b[38;5;241m=\u001b[39m threshold_niblack(gray, window_size\u001b[38;5;241m=\u001b[39m\u001b[38;5;241m219\u001b[39m, k\u001b[38;5;241m=\u001b[39m\u001b[38;5;241m0.9\u001b[39m)\n\u001b[1;32m     11\u001b[0m niblack \u001b[38;5;241m=\u001b[39m gray \u001b[38;5;241m>\u001b[39m thresh_niblack\n",
      "\u001b[0;31merror\u001b[0m: OpenCV(4.5.5) /Users/xperience/actions-runner/_work/opencv-python/opencv-python/opencv/modules/imgproc/src/color.cpp:182: error: (-215:Assertion failed) !_src.empty() in function 'cvtColor'\n"
     ]
    }
   ],
   "source": [
    "Niblack(dossier_input = \"/Users/pauline/Documents/Kunsthistorisches-UZH_Archivdatenbank/TEST_bin\", dossier_output = \"/Users/pauline/Documents/Kunsthistorisches-UZH_Archivdatenbank/TEST_bin/Niblack\")"
   ]
  },
  {
   "cell_type": "markdown",
   "id": "c39a9523",
   "metadata": {},
   "source": [
    "# Binary with Sauvola\n",
    "\n",
    "Modification of the Niblack technique Niblack algorithm with calculation of the maximum standard deviation of a greyscale image. \n",
    "_Cf_. : J. Sauvola and M. Pietikainen, “Adaptive document image binarization,” Pattern Recognition 33(2), pp. 225-236, 2000. DOI:10.1016/S0031-3203(99)00055-2 [DOI:10.1109/83.366472](https://www.sciencedirect.com/science/article/abs/pii/S0031320399000552?via%3Dihub)."
   ]
  },
  {
   "cell_type": "code",
   "execution_count": 20,
   "id": "81f41c85",
   "metadata": {},
   "outputs": [],
   "source": [
    "def Sauvola(dossier_input:str, dossier_output):\n",
    "    if not os.path.isdir(dossier_output):\n",
    "        os.mkdir(dossier_output) \n",
    "    files = os.listdir(dossier_input)\n",
    "   \n",
    "    for f in tqdm(files): \n",
    "        img = os.path.join(dossier_input, f)\n",
    "        image = cv2.imread(img) \n",
    "        gray = cv2.cvtColor(image, cv2.COLOR_BGR2GRAY)\n",
    "        thresh_sauvola = threshold_sauvola(gray, window_size=219)\n",
    "        sauvola = gray > thresh_sauvola\n",
    "        binary_sauvola = img_as_ubyte(sauvola)\n",
    "        path_save = os.path.join(dossier_output, f)\n",
    "        imsave(path_save, binary_sauvola)"
   ]
  },
  {
   "cell_type": "code",
   "execution_count": 21,
   "id": "316b8bfd",
   "metadata": {},
   "outputs": [
    {
     "data": {
      "application/vnd.jupyter.widget-view+json": {
       "model_id": "be7e0f0303a14e92820a2a1dbe2679d3",
       "version_major": 2,
       "version_minor": 0
      },
      "text/plain": [
       "  0%|          | 0/6 [00:00<?, ?it/s]"
      ]
     },
     "metadata": {},
     "output_type": "display_data"
    },
    {
     "ename": "error",
     "evalue": "OpenCV(4.5.5) /Users/xperience/actions-runner/_work/opencv-python/opencv-python/opencv/modules/imgproc/src/color.cpp:182: error: (-215:Assertion failed) !_src.empty() in function 'cvtColor'\n",
     "output_type": "error",
     "traceback": [
      "\u001b[0;31m---------------------------------------------------------------------------\u001b[0m",
      "\u001b[0;31merror\u001b[0m                                     Traceback (most recent call last)",
      "Input \u001b[0;32mIn [21]\u001b[0m, in \u001b[0;36m<cell line: 1>\u001b[0;34m()\u001b[0m\n\u001b[0;32m----> 1\u001b[0m \u001b[43mSauvola\u001b[49m\u001b[43m(\u001b[49m\u001b[43mdossier_input\u001b[49m\u001b[43m \u001b[49m\u001b[38;5;241;43m=\u001b[39;49m\u001b[43m \u001b[49m\u001b[38;5;124;43m\"\u001b[39;49m\u001b[38;5;124;43m/Users/pauline/Documents/Kunsthistorisches-UZH_Archivdatenbank/TEST_bin\u001b[39;49m\u001b[38;5;124;43m\"\u001b[39;49m\u001b[43m,\u001b[49m\u001b[43m \u001b[49m\u001b[43mdossier_output\u001b[49m\u001b[43m \u001b[49m\u001b[38;5;241;43m=\u001b[39;49m\u001b[43m \u001b[49m\u001b[38;5;124;43m\"\u001b[39;49m\u001b[38;5;124;43m/Users/pauline/Documents/Kunsthistorisches-UZH_Archivdatenbank/TEST_bin/Sauvola\u001b[39;49m\u001b[38;5;124;43m\"\u001b[39;49m\u001b[43m)\u001b[49m\n",
      "Input \u001b[0;32mIn [20]\u001b[0m, in \u001b[0;36mSauvola\u001b[0;34m(dossier_input, dossier_output)\u001b[0m\n\u001b[1;32m      7\u001b[0m img \u001b[38;5;241m=\u001b[39m os\u001b[38;5;241m.\u001b[39mpath\u001b[38;5;241m.\u001b[39mjoin(dossier_input, f)\n\u001b[1;32m      8\u001b[0m image \u001b[38;5;241m=\u001b[39m cv2\u001b[38;5;241m.\u001b[39mimread(img) \n\u001b[0;32m----> 9\u001b[0m gray \u001b[38;5;241m=\u001b[39m \u001b[43mcv2\u001b[49m\u001b[38;5;241;43m.\u001b[39;49m\u001b[43mcvtColor\u001b[49m\u001b[43m(\u001b[49m\u001b[43mimage\u001b[49m\u001b[43m,\u001b[49m\u001b[43m \u001b[49m\u001b[43mcv2\u001b[49m\u001b[38;5;241;43m.\u001b[39;49m\u001b[43mCOLOR_BGR2GRAY\u001b[49m\u001b[43m)\u001b[49m\n\u001b[1;32m     10\u001b[0m thresh_sauvola \u001b[38;5;241m=\u001b[39m threshold_sauvola(gray, window_size\u001b[38;5;241m=\u001b[39m\u001b[38;5;241m219\u001b[39m)\n\u001b[1;32m     11\u001b[0m sauvola \u001b[38;5;241m=\u001b[39m gray \u001b[38;5;241m>\u001b[39m thresh_sauvola\n",
      "\u001b[0;31merror\u001b[0m: OpenCV(4.5.5) /Users/xperience/actions-runner/_work/opencv-python/opencv-python/opencv/modules/imgproc/src/color.cpp:182: error: (-215:Assertion failed) !_src.empty() in function 'cvtColor'\n"
     ]
    }
   ],
   "source": [
    "Sauvola(dossier_input = \"/Users/pauline/Documents/Kunsthistorisches-UZH_Archivdatenbank/TEST_bin\", dossier_output = \"/Users/pauline/Documents/Kunsthistorisches-UZH_Archivdatenbank/TEST_bin/Sauvola\")"
   ]
  },
  {
   "cell_type": "markdown",
   "id": "3b42adae",
   "metadata": {},
   "source": [
    "# Deblur \n",
    "\n",
    "With a simple sharpening kernels using cv2.filter2D."
   ]
  },
  {
   "cell_type": "code",
   "execution_count": 11,
   "id": "9e4dc3d2",
   "metadata": {},
   "outputs": [],
   "source": [
    "def Deblur(dossier_input:str, dossier_output):\n",
    "    if not os.path.isdir(dossier_output):\n",
    "        os.mkdir(dossier_output) \n",
    "    files = os.listdir(dossier_input)\n",
    "   \n",
    "    for f in tqdm(files): \n",
    "        img = os.path.join(dossier_input, f)\n",
    "        image = cv2.imread(img) \n",
    "        sharpening = np.array([[-1,-1,-1], [-1,9,-1], [-1,-1,-1]])\n",
    "        deblur = cv2.filter2D(image, -1, sharpening)\n",
    "        path_save = os.path.join(dossier_output, f)\n",
    "        cv2.imwrite(path_save, deblur)"
   ]
  },
  {
   "cell_type": "code",
   "execution_count": 12,
   "id": "1e95587c",
   "metadata": {},
   "outputs": [
    {
     "data": {
      "application/vnd.jupyter.widget-view+json": {
       "model_id": "392c6d9da6664e24b0d9fd91202696b3",
       "version_major": 2,
       "version_minor": 0
      },
      "text/plain": [
       "  0%|          | 0/198 [00:00<?, ?it/s]"
      ]
     },
     "metadata": {},
     "output_type": "display_data"
    }
   ],
   "source": [
    "Deblur(dossier_input = \"../Varios-GroundTruth-Test-Alto/BGR\", dossier_output = \"../Varios-GroundTruth-Test-Alto/GroundTruth-deblur\")"
   ]
  },
  {
   "cell_type": "markdown",
   "id": "ceeba142",
   "metadata": {},
   "source": [
    "# Gamma correction\n",
    "Brightness correction through gamma exposure transformation. \n",
    "Gamma1 to brighten the image; Gamma2 to darken the image."
   ]
  },
  {
   "cell_type": "code",
   "execution_count": 13,
   "id": "75047c75",
   "metadata": {},
   "outputs": [],
   "source": [
    "def Gamma1(dossier_input:str, dossier_output):\n",
    "    if not os.path.isdir(dossier_output):\n",
    "        os.mkdir(dossier_output) \n",
    "    files = os.listdir(dossier_input)\n",
    "   \n",
    "    for f in tqdm(files): \n",
    "        img = os.path.join(dossier_input, f)\n",
    "        image = cv2.imread(img) \n",
    "        image_gamma = exposure.adjust_gamma(image, gamma = 0.9)\n",
    "        path_save = os.path.join(dossier_output, f)\n",
    "        cv2.imwrite(path_save, image_gamma)"
   ]
  },
  {
   "cell_type": "code",
   "execution_count": 14,
   "id": "4b0c7a3b",
   "metadata": {},
   "outputs": [
    {
     "data": {
      "application/vnd.jupyter.widget-view+json": {
       "model_id": "13b0e15a8d0847e799136074422f995e",
       "version_major": 2,
       "version_minor": 0
      },
      "text/plain": [
       "  0%|          | 0/198 [00:00<?, ?it/s]"
      ]
     },
     "metadata": {},
     "output_type": "display_data"
    }
   ],
   "source": [
    "Gamma1(dossier_input = \"../Varios-GroundTruth-Test-Alto/BGR\", dossier_output = \"../Varios-GroundTruth-Test-Alto/GroundTruth-gamma1\")"
   ]
  },
  {
   "cell_type": "code",
   "execution_count": 15,
   "id": "ca60d8e3",
   "metadata": {},
   "outputs": [],
   "source": [
    "def Gamma2(dossier_input:str, dossier_output):\n",
    "    if not os.path.isdir(dossier_output):\n",
    "        os.mkdir(dossier_output) \n",
    "    files = os.listdir(dossier_input)\n",
    "   \n",
    "    for f in tqdm(files): \n",
    "        img = os.path.join(dossier_input, f)\n",
    "        image = cv2.imread(img) \n",
    "        image_gamma = exposure.adjust_gamma(image, gamma = 2.25)\n",
    "        path_save = os.path.join(dossier_output, f)\n",
    "        cv2.imwrite(path_save, image_gamma)"
   ]
  },
  {
   "cell_type": "code",
   "execution_count": 16,
   "id": "4ea449a3",
   "metadata": {},
   "outputs": [
    {
     "data": {
      "application/vnd.jupyter.widget-view+json": {
       "model_id": "44aec9a776aa4b99ab132b61cf0aa1cc",
       "version_major": 2,
       "version_minor": 0
      },
      "text/plain": [
       "  0%|          | 0/198 [00:00<?, ?it/s]"
      ]
     },
     "metadata": {},
     "output_type": "display_data"
    }
   ],
   "source": [
    "Gamma2(dossier_input = \"../Varios-GroundTruth-Test-Alto/BGR\", dossier_output = \"../Varios-GroundTruth-Test-Alto/GroundTruth-gamma2\")"
   ]
  },
  {
   "cell_type": "markdown",
   "id": "446244ca",
   "metadata": {},
   "source": [
    "# Gamma2 + Niblack"
   ]
  },
  {
   "cell_type": "code",
   "execution_count": 3,
   "id": "f8178025",
   "metadata": {},
   "outputs": [
    {
     "data": {
      "application/vnd.jupyter.widget-view+json": {
       "model_id": "6662dcdd7cac4744ae64a5fbc5bb57e0",
       "version_major": 2,
       "version_minor": 0
      },
      "text/plain": [
       "  0%|          | 0/198 [00:00<?, ?it/s]"
      ]
     },
     "metadata": {},
     "output_type": "display_data"
    }
   ],
   "source": [
    "Niblack(dossier_input = \"../Varios-GroundTruth-Test-Alto/GroundTruth-gamma2\", dossier_output = \"../Varios-GroundTruth-Test-Alto/GroundTruth-Gamma2+Niblack\")"
   ]
  },
  {
   "cell_type": "markdown",
   "id": "4ebcb18f",
   "metadata": {},
   "source": [
    "# Gamma2 + Sauvola\n"
   ]
  },
  {
   "cell_type": "code",
   "execution_count": 3,
   "id": "1e639865",
   "metadata": {},
   "outputs": [
    {
     "data": {
      "application/vnd.jupyter.widget-view+json": {
       "model_id": "55cbceeb967c4b688bad49873d8c44e4",
       "version_major": 2,
       "version_minor": 0
      },
      "text/plain": [
       "  0%|          | 0/198 [00:00<?, ?it/s]"
      ]
     },
     "metadata": {},
     "output_type": "display_data"
    }
   ],
   "source": [
    "Sauvola(dossier_input = \"../Varios-GroundTruth-Test-Alto/GroundTruth-gamma2\", dossier_output = \"../Varios-GroundTruth-Test-Alto/GroundTruth-Gamma2+Sauvola\")"
   ]
  },
  {
   "cell_type": "markdown",
   "id": "567b51f3",
   "metadata": {},
   "source": [
    "# Gamma2 + OTSU"
   ]
  },
  {
   "cell_type": "code",
   "execution_count": 5,
   "id": "2e2c6649",
   "metadata": {},
   "outputs": [
    {
     "data": {
      "application/vnd.jupyter.widget-view+json": {
       "model_id": "a1725861c06642a0ae456def3d0d78a8",
       "version_major": 2,
       "version_minor": 0
      },
      "text/plain": [
       "  0%|          | 0/198 [00:00<?, ?it/s]"
      ]
     },
     "metadata": {},
     "output_type": "display_data"
    }
   ],
   "source": [
    "OTSU(dossier_input = \"../Varios-GroundTruth-Test-Alto/GroundTruth-gamma2\", dossier_output = \"../Varios-GroundTruth-Test-Alto/GroundTruth-Gamma2+OTSU\")"
   ]
  },
  {
   "cell_type": "markdown",
   "id": "5b55ab2d",
   "metadata": {},
   "source": [
    "# Deblur + Niblack"
   ]
  },
  {
   "cell_type": "code",
   "execution_count": 4,
   "id": "344ecdef",
   "metadata": {},
   "outputs": [
    {
     "data": {
      "application/vnd.jupyter.widget-view+json": {
       "model_id": "9d9e4b6345174d4db500829e76f25d00",
       "version_major": 2,
       "version_minor": 0
      },
      "text/plain": [
       "  0%|          | 0/198 [00:00<?, ?it/s]"
      ]
     },
     "metadata": {},
     "output_type": "display_data"
    }
   ],
   "source": [
    "Niblack(dossier_input = \"../Varios-GroundTruth-Test-Alto/GroundTruth-deblur\", dossier_output = \"../Varios-GroundTruth-Test-Alto/GroundTruth-Deblur+Niblack\")"
   ]
  },
  {
   "cell_type": "code",
   "execution_count": null,
   "id": "9623ae89",
   "metadata": {},
   "outputs": [],
   "source": []
  }
 ],
 "metadata": {
  "kernelspec": {
   "display_name": "Python 3 (ipykernel)",
   "language": "python",
   "name": "python3"
  },
  "language_info": {
   "codemirror_mode": {
    "name": "ipython",
    "version": 3
   },
   "file_extension": ".py",
   "mimetype": "text/x-python",
   "name": "python",
   "nbconvert_exporter": "python",
   "pygments_lexer": "ipython3",
   "version": "3.9.12"
  }
 },
 "nbformat": 4,
 "nbformat_minor": 5
}
