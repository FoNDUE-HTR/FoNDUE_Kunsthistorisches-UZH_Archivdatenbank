{
 "cells": [
  {
   "cell_type": "code",
   "execution_count": 1,
   "id": "bc26dd44",
   "metadata": {},
   "outputs": [],
   "source": [
    "import os,re\n",
    "import xml.etree.ElementTree as ET\n",
    "from tqdm.notebook import tqdm"
   ]
  },
  {
   "cell_type": "markdown",
   "id": "0f01a8ab",
   "metadata": {},
   "source": [
    "# Removal of printed lines"
   ]
  },
  {
   "cell_type": "code",
   "execution_count": 3,
   "id": "6ffafbf3",
   "metadata": {},
   "outputs": [],
   "source": [
    "def LessPrintlines(dossier_input:str, dossier_output):\n",
    "    if not os.path.isdir(dossier_output):\n",
    "        os.mkdir(dossier_output) \n",
    "    directory = os.listdir(dossier_input)\n",
    "    os.chdir(dossier_input)\n",
    "    for files in tqdm(directory):\n",
    "        if files.endswith('.xml'):\n",
    "            tree = ET.parse(files)\n",
    "            root = tree.getroot()\n",
    "            ns = {'alto': 'http://www.loc.gov/standards/alto/ns-v4#'}\n",
    "            ET.register_namespace(\"\", \"http://www.loc.gov/standards/alto/ns-v4#\")\n",
    "       \n",
    "            for lines in root.findall(\".//alto:TextBlock\", ns):\n",
    "                for Headprintline in lines.findall(\".//alto:TextLine[@TAGREFS='LT102']\", ns):\n",
    "                    lines.remove(Headprintline)\n",
    "                for printline in lines.findall(\".//alto:TextLine[@TAGREFS='LT105']\", ns):\n",
    "                    lines.remove(printline)\n",
    "            \n",
    "            path_save = os.path.join(dossier_output, files)\n",
    "            tree.write(path_save, encoding=\"UTF-8\", xml_declaration=True)\n",
    "    "
   ]
  },
  {
   "cell_type": "code",
   "execution_count": 5,
   "id": "c9775bde",
   "metadata": {},
   "outputs": [
    {
     "data": {
      "application/vnd.jupyter.widget-view+json": {
       "model_id": "82783e089b3343cdbc374493425eb601",
       "version_major": 2,
       "version_minor": 0
      },
      "text/plain": [
       "  0%|          | 0/1118 [00:00<?, ?it/s]"
      ]
     },
     "metadata": {},
     "output_type": "display_data"
    }
   ],
   "source": [
    "LessPrintlines(dossier_input = \"../1_Data/1_2_Illustrations_Pages\", dossier_output = \"Kunsthistorisches-UZH_Archivdatenbank/1_Data/1_3_ManuscriptLines\")"
   ]
  },
  {
   "cell_type": "markdown",
   "id": "a6ba1065",
   "metadata": {},
   "source": [
    "# Removal of handwritten lines"
   ]
  },
  {
   "cell_type": "code",
   "execution_count": 6,
   "id": "00dd8da6",
   "metadata": {},
   "outputs": [],
   "source": [
    "def LessManuscriptLines(dossier_input:str, dossier_output):\n",
    "    if not os.path.isdir(dossier_output):\n",
    "        os.mkdir(dossier_output) \n",
    "    directory = os.listdir(dossier_input)\n",
    "    os.chdir(dossier_input)\n",
    "    for files in tqdm(directory):\n",
    "        if files.endswith('.xml'):\n",
    "            tree = ET.parse(files)\n",
    "            root = tree.getroot()\n",
    "            ns = {'alto': 'http://www.loc.gov/standards/alto/ns-v4#'}\n",
    "            ET.register_namespace(\"\", \"http://www.loc.gov/standards/alto/ns-v4#\")\n",
    "       \n",
    "            for lines in root.findall(\".//alto:TextBlock\", ns):\n",
    "                for Headmanuscriptline in lines.findall(\".//alto:TextLine[@TAGREFS='LT104']\", ns):\n",
    "                    lines.remove(Headmanuscriptline)\n",
    "                for manuscriptline in lines.findall(\".//alto:TextLine[@TAGREFS='LT103']\", ns):\n",
    "                    lines.remove(manuscriptline)\n",
    "            \n",
    "            path_save = os.path.join(dossier_output, files)\n",
    "            tree.write(path_save, encoding=\"UTF-8\", xml_declaration=True)\n",
    "    "
   ]
  },
  {
   "cell_type": "code",
   "execution_count": 9,
   "id": "fe603ca3",
   "metadata": {},
   "outputs": [
    {
     "data": {
      "application/vnd.jupyter.widget-view+json": {
       "model_id": "0f800a3aa0a24ddfafb3a6eb71cfa332",
       "version_major": 2,
       "version_minor": 0
      },
      "text/plain": [
       "  0%|          | 0/1096 [00:00<?, ?it/s]"
      ]
     },
     "metadata": {},
     "output_type": "display_data"
    }
   ],
   "source": [
    "LessManuscriptLines(dossier_input = \"/Users/pauline/Documents/Projet_Kunsthistorisches-UZH_Archivdatenbank/FoNDUE_Kunsthistorisches-UZH_Archivdatenbank/FoNDUE_Kunsthistorisches-UZH_Archivdatenbank/1_Data/1_2_Illustrations_Pages\", dossier_output = \"/Users/pauline/Documents/Projet_Kunsthistorisches-UZH_Archivdatenbank/FoNDUE_Kunsthistorisches-UZH_Archivdatenbank/FoNDUE_Kunsthistorisches-UZH_Archivdatenbank/1_Data/1_4_PrintLines\")"
   ]
  },
  {
   "cell_type": "code",
   "execution_count": null,
   "id": "a051d6d2",
   "metadata": {},
   "outputs": [],
   "source": []
  }
 ],
 "metadata": {
  "kernelspec": {
   "display_name": "Python 3 (ipykernel)",
   "language": "python",
   "name": "python3"
  },
  "language_info": {
   "codemirror_mode": {
    "name": "ipython",
    "version": 3
   },
   "file_extension": ".py",
   "mimetype": "text/x-python",
   "name": "python",
   "nbconvert_exporter": "python",
   "pygments_lexer": "ipython3",
   "version": "3.9.15"
  }
 },
 "nbformat": 4,
 "nbformat_minor": 5
}
